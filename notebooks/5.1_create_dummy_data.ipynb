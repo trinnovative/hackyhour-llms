{
 "cells": [
  {
   "cell_type": "markdown",
   "source": [
    "# Create dummy data"
   ],
   "metadata": {
    "collapsed": false
   },
   "id": "5a2c6f410da5a5c3"
  },
  {
   "cell_type": "code",
   "execution_count": null,
   "outputs": [],
   "source": [
    "import os\n",
    "import json\n",
    "from dotenv import load_dotenv\n",
    "from langchain.prompts import ChatPromptTemplate\n",
    "from langchain.chat_models import ChatOpenAI\n",
    "from langchain.schema.output_parser import StrOutputParser\n",
    "\n",
    "load_dotenv()\n",
    "os.environ[\"OPENAI_API_KEY\"] = os.getenv(\"OPENAI_API_KEY\")"
   ],
   "metadata": {
    "collapsed": false
   },
   "id": "33b7b4f56df96616"
  },
  {
   "cell_type": "code",
   "execution_count": null,
   "outputs": [],
   "source": [
    "template = \"Generate me one dummy event from a random category. It should consist of a event title, place, date, time and a short description in one sentence.\"\n",
    "prompt = ChatPromptTemplate.from_template(template)\n",
    "model = ChatOpenAI()\n",
    "chain = prompt | model | StrOutputParser()"
   ],
   "metadata": {
    "collapsed": false
   },
   "id": "93636dea1e47209d"
  },
  {
   "cell_type": "code",
   "execution_count": null,
   "outputs": [],
   "source": [
    "dummy_data = []"
   ],
   "metadata": {
    "collapsed": false
   },
   "id": "62f5c2da7bf67b74"
  },
  {
   "cell_type": "code",
   "execution_count": null,
   "outputs": [],
   "source": [
    "for i in range(100):\n",
    "    dummy_data.append(chain.invoke({}))"
   ],
   "metadata": {
    "collapsed": false
   },
   "id": "3412edef78a164f"
  },
  {
   "cell_type": "code",
   "execution_count": null,
   "outputs": [],
   "source": [
    "with open(\"dummy_data.json\", \"w\") as f:\n",
    "    json.dump(dummy_data, f, indent=4)"
   ],
   "metadata": {
    "collapsed": false
   },
   "id": "7a9b22c5d4f149cb"
  }
 ],
 "metadata": {
  "kernelspec": {
   "display_name": "Python 3",
   "language": "python",
   "name": "python3"
  },
  "language_info": {
   "codemirror_mode": {
    "name": "ipython",
    "version": 2
   },
   "file_extension": ".py",
   "mimetype": "text/x-python",
   "name": "python",
   "nbconvert_exporter": "python",
   "pygments_lexer": "ipython2",
   "version": "2.7.6"
  }
 },
 "nbformat": 4,
 "nbformat_minor": 5
}
