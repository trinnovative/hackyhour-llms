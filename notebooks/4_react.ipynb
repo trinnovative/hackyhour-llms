{
 "cells": [
  {
   "cell_type": "markdown",
   "source": [
    "# ReAct"
   ],
   "metadata": {
    "collapsed": false
   },
   "id": "2982a01e162f13b5"
  },
  {
   "cell_type": "code",
   "execution_count": 28,
   "outputs": [],
   "source": [
    "import os\n",
    "from dotenv import load_dotenv\n",
    "\n",
    "load_dotenv()\n",
    "os.environ[\"OPENAI_API_KEY\"] = os.getenv(\"OPENAI_API_KEY\")"
   ],
   "metadata": {
    "collapsed": false,
    "ExecuteTime": {
     "end_time": "2023-10-31T15:41:14.424774300Z",
     "start_time": "2023-10-31T15:41:14.414947100Z"
    }
   },
   "id": "a572e095a608adec"
  },
  {
   "cell_type": "code",
   "execution_count": 29,
   "outputs": [],
   "source": [
    "from langchain.agents import initialize_agent, Tool\n",
    "from langchain.agents import AgentType\n",
    "from langchain.chat_models import ChatOpenAI\n",
    "from langchain.utilities import SerpAPIWrapper\n",
    "from langchain_experimental.tools import PythonREPLTool"
   ],
   "metadata": {
    "collapsed": false,
    "ExecuteTime": {
     "end_time": "2023-10-31T15:41:15.681635200Z",
     "start_time": "2023-10-31T15:41:15.676140700Z"
    }
   },
   "id": "185092e96eef97c5"
  },
  {
   "cell_type": "code",
   "execution_count": 32,
   "outputs": [],
   "source": [
    "llm = ChatOpenAI(model=\"gpt-4-0613\")\n",
    "\n",
    "tools = [\n",
    "    Tool(\n",
    "        name=\"Search\",\n",
    "        description=\"Useful if you need to search about current events\",\n",
    "        func=SerpAPIWrapper(params={\"gl\": \"de\", \"hl\": \"de\"}).run\n",
    "    ),\n",
    "    PythonREPLTool()\n",
    "]\n",
    "\n",
    "agent_chain = initialize_agent(\n",
    "    tools, \n",
    "    llm, \n",
    "    agent=AgentType.CHAT_ZERO_SHOT_REACT_DESCRIPTION,\n",
    "    verbose=True,\n",
    "    max_execution_time=120\n",
    ")"
   ],
   "metadata": {
    "collapsed": false,
    "ExecuteTime": {
     "end_time": "2023-10-31T15:42:32.789654Z",
     "start_time": "2023-10-31T15:42:32.782649900Z"
    }
   },
   "id": "d99d6a03744b7cac"
  },
  {
   "cell_type": "code",
   "execution_count": 33,
   "outputs": [
    {
     "name": "stdout",
     "output_type": "stream",
     "text": [
      "\n",
      "\n",
      "\u001B[1m> Entering new AgentExecutor chain...\u001B[0m\n",
      "\u001B[32;1m\u001B[1;3mThought: I don't know off the top of my head when the Advent market at St. Katherinenspital Regensburg starts in 2023. I'll need to look that up. \n",
      "\n",
      "Action:\n",
      "```\n",
      "{\n",
      "  \"action\": \"Search\",\n",
      "  \"action_input\": \"St. Katherinenspital Regensburg Adventsmarkt 2023 start date\"\n",
      "}\n",
      "```\u001B[0m\n",
      "Observation: \u001B[36;1m\u001B[1;3m['spital-adventsmarkt 2023. auf dem Spitalanger (im Sommer: Spital-Biergarten). Kontakt für Fragen zum Adventsmarkt 2023: ... 93059 Regensburg. Telefon: +49 (0)941 ...']\u001B[0m\n",
      "Thought:\u001B[32;1m\u001B[1;3mThe search results didn't provide the exact date for the Advent market at St. Katherinenspital Regensburg in 2023. I'll perform another search to try to find more specific information.\n",
      "\n",
      "Action:\n",
      "```\n",
      "{\n",
      "  \"action\": \"Search\",\n",
      "  \"action_input\": \"Startdatum des Adventsmarkts im St. Katherinenspital Regensburg 2023\"\n",
      "}\n",
      "```\u001B[0m\n",
      "Observation: \u001B[36;1m\u001B[1;3mKatharinenspital 27.11. - 23.12.2023. Auch in diesem Jahr verwandelt sich der Spitalgarten in Stadtamhof wieder in einen adventlichen Markt mit besonderem Zauber.\u001B[0m\n",
      "Thought:\u001B[32;1m\u001B[1;3mThe Advent market at St. Katherinenspital Regensburg starts on November 27, 2023. Now, to answer the second part of the question, I need to calculate how many days there are until that date from today's date. For that I can use Python's datetime module.\n",
      "\n",
      "Action:\n",
      "```\n",
      "{\n",
      "  \"action\": \"Python_REPL\",\n",
      "  \"action_input\": \"from datetime import datetime, date\\n\\n# Define the start date of the Advent market\\nstart_date = date(2023, 11, 27)\\n\\n# Get today's date\\ntoday = date.today()\\n\\n# Calculate the difference in days between the two dates\\ndifference = (start_date - today).days\\n\\nprint(difference)\"\n",
      "}\n",
      "```\u001B[0m\n",
      "Observation: \u001B[33;1m\u001B[1;3m27\n",
      "\u001B[0m\n",
      "Thought:\u001B[32;1m\u001B[1;3mThere are 27 days until the start of the Advent market at St. Katherinenspital Regensburg in 2023.\n",
      "Final Answer: Der Adventsmarkt im St. Katherinenspital Regensburg beginnt am 27. November 2023. Es sind 27 Tage bis dahin.\u001B[0m\n",
      "\n",
      "\u001B[1m> Finished chain.\u001B[0m\n"
     ]
    },
    {
     "data": {
      "text/plain": "{'input': 'Wann beginnt der Adventsmarkt im St. Katherinenspital Regensburg 2023? Wie viele Tage sind es bis dahin?',\n 'output': 'Der Adventsmarkt im St. Katherinenspital Regensburg beginnt am 27. November 2023. Es sind 27 Tage bis dahin.'}"
     },
     "execution_count": 33,
     "metadata": {},
     "output_type": "execute_result"
    }
   ],
   "source": [
    "agent_chain.invoke(\"Wann beginnt der Adventsmarkt im St. Katherinenspital Regensburg 2023? Wie viele Tage sind es bis dahin?\")"
   ],
   "metadata": {
    "collapsed": false,
    "ExecuteTime": {
     "end_time": "2023-10-31T15:43:49.930365100Z",
     "start_time": "2023-10-31T15:42:35.521827200Z"
    }
   },
   "id": "18776aa5749c5b7d"
  },
  {
   "cell_type": "code",
   "execution_count": null,
   "outputs": [],
   "source": [
    "agent_chain.invoke(\"Johann Schenkl hält einen Vortrag im Rahmen der der Hacky Hour. Was ist das Thema der Veranstaltung und in wie vielen Tagen findet sie statt?\")"
   ],
   "metadata": {
    "collapsed": false
   },
   "id": "1befecc07441271b"
  },
  {
   "cell_type": "code",
   "execution_count": 44,
   "outputs": [
    {
     "name": "stdout",
     "output_type": "stream",
     "text": [
      "Answer the following questions as best you can. You have access to the following tools:\n",
      "\n",
      "Search: Useful if you need to search about current events\n",
      "Python_REPL: A Python shell. Use this to execute python commands. Input should be a valid python command. If you want to see the output of a value, you should print it out with `print(...)`.\n",
      "\n",
      "The way you use the tools is by specifying a json blob.\n",
      "Specifically, this json should have a `action` key (with the name of the tool to use) and a `action_input` key (with the input to the tool going here).\n",
      "\n",
      "The only values that should be in the \"action\" field are: Search, Python_REPL\n",
      "\n",
      "The $JSON_BLOB should only contain a SINGLE action, do NOT return a list of multiple actions. Here is an example of a valid $JSON_BLOB:\n",
      "\n",
      "```\n",
      "{{\n",
      "  \"action\": $TOOL_NAME,\n",
      "  \"action_input\": $INPUT\n",
      "}}\n",
      "```\n",
      "\n",
      "ALWAYS use the following format:\n",
      "\n",
      "Question: the input question you must answer\n",
      "Thought: you should always think about what to do\n",
      "Action:\n",
      "```\n",
      "$JSON_BLOB\n",
      "```\n",
      "Observation: the result of the action\n",
      "... (this Thought/Action/Observation can repeat N times)\n",
      "Thought: I now know the final answer\n",
      "Final Answer: the final answer to the original input question\n",
      "\n",
      "Begin! Reminder to always use the exact characters `Final Answer` when responding.\n",
      "{input}\n",
      "\n",
      "{agent_scratchpad}\n"
     ]
    }
   ],
   "source": [
    "for i in agent_chain.agent.llm_chain.prompt.messages:\n",
    "    print(i.prompt.template)"
   ],
   "metadata": {
    "collapsed": false,
    "ExecuteTime": {
     "end_time": "2023-10-31T15:51:25.281755300Z",
     "start_time": "2023-10-31T15:51:25.275709200Z"
    }
   },
   "id": "782ab33d3a36d043"
  }
 ],
 "metadata": {
  "kernelspec": {
   "display_name": "Python 3",
   "language": "python",
   "name": "python3"
  },
  "language_info": {
   "codemirror_mode": {
    "name": "ipython",
    "version": 2
   },
   "file_extension": ".py",
   "mimetype": "text/x-python",
   "name": "python",
   "nbconvert_exporter": "python",
   "pygments_lexer": "ipython2",
   "version": "2.7.6"
  }
 },
 "nbformat": 4,
 "nbformat_minor": 5
}
