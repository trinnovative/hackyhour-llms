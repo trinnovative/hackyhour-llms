{
 "cells": [
  {
   "cell_type": "markdown",
   "source": [
    "# ReAct"
   ],
   "metadata": {
    "collapsed": false
   },
   "id": "2982a01e162f13b5"
  },
  {
   "cell_type": "code",
   "execution_count": 1,
   "outputs": [],
   "source": [
    "import os\n",
    "from dotenv import load_dotenv\n",
    "\n",
    "load_dotenv()\n",
    "os.environ[\"OPENAI_API_KEY\"] = os.getenv(\"OPENAI_API_KEY\")"
   ],
   "metadata": {
    "collapsed": false,
    "ExecuteTime": {
     "end_time": "2023-11-02T09:39:43.624900900Z",
     "start_time": "2023-11-02T09:39:43.544701500Z"
    }
   },
   "id": "a572e095a608adec"
  },
  {
   "cell_type": "code",
   "execution_count": 2,
   "outputs": [],
   "source": [
    "from langchain.agents import initialize_agent\n",
    "from langchain.agents import AgentType\n",
    "from langchain.chat_models import ChatOpenAI\n",
    "from langchain.tools import DuckDuckGoSearchRun\n",
    "from langchain.utilities import DuckDuckGoSearchAPIWrapper\n",
    "from langchain_experimental.tools import PythonREPLTool"
   ],
   "metadata": {
    "collapsed": false,
    "ExecuteTime": {
     "end_time": "2023-11-02T09:39:44.973816Z",
     "start_time": "2023-11-02T09:39:43.551861900Z"
    }
   },
   "id": "185092e96eef97c5"
  },
  {
   "cell_type": "code",
   "execution_count": 3,
   "outputs": [],
   "source": [
    "llm = ChatOpenAI(model=\"gpt-4-0613\")\n",
    "\n",
    "tools = [\n",
    "    DuckDuckGoSearchRun(api_wrapper=DuckDuckGoSearchAPIWrapper(region=\"de-de\")),\n",
    "    PythonREPLTool()\n",
    "]\n",
    "\n",
    "agent_chain = initialize_agent(\n",
    "    tools, \n",
    "    llm, \n",
    "    agent=AgentType.CHAT_ZERO_SHOT_REACT_DESCRIPTION,\n",
    "    verbose=True,\n",
    "    max_execution_time=120\n",
    ")"
   ],
   "metadata": {
    "collapsed": false,
    "ExecuteTime": {
     "end_time": "2023-11-02T09:39:45.205974800Z",
     "start_time": "2023-11-02T09:39:44.975812Z"
    }
   },
   "id": "d99d6a03744b7cac"
  },
  {
   "cell_type": "code",
   "execution_count": 4,
   "outputs": [
    {
     "name": "stdout",
     "output_type": "stream",
     "text": [
      "\n",
      "\n",
      "\u001B[1m> Entering new AgentExecutor chain...\u001B[0m\n",
      "\u001B[32;1m\u001B[1;3mThought: This question is asking two things: when the Christkindlmarkt (Christmas Market) begins on the Neupfarrplatz in 2023, and how many days are left until the start of the market. To answer this, I'll first need to find out the start date of the market in 2023. I will use the DuckDuckGo search tool to find this information. Then, I'll calculate the difference between the current date and the start date of the market using a Python command. \n",
      "\n",
      "Action:\n",
      "```\n",
      "{\n",
      "  \"action\": \"duckduckgo_search\",\n",
      "  \"action_input\": \"Start date of Christkindlmarkt Neupfarrplatz 2023\"\n",
      "}\n",
      "```\u001B[0m\n",
      "Observation: \u001B[36;1m\u001B[1;3mRegensburg Christmas Market dates: 27th November to 23rd December 2023. Location: Neupfarrplatz. Opening times: Sunday to Wednesday: 10am to 8pm. Thursday to Saturday: 10am to 9pm. Christmas Day: Closed. Admission: Free. Christmas lights: To save energy, the church will not be illuminated. Santa: Yes, every Wednesday is children's day. am 18.09.2023 aktualisiert Der Glühwein schmeckt am Christkindlmarkt gleich nochmal besser in netter Gesellschaft und dick eingemummt mit Mütze, Schal und Handschuhen. Aber ... In der... Der Regensburger Christkindlmarkt öffnet traditionell vom 27. November bis 23. Dezember 2023 sonntags bis mittwochs von 10:00 bis 20:00 Uhr, donnerstags bis samstags von 10:00 bis 21:00 Uhr auf dem Neupfarrplatz in Regensburg. Weihnachtsmärkte in Regensburg 2023: Diese Auswahl gibt es Regionen & Kategorien Region Polizeiberichte Ansbach Bamberg Bayreuth Erlangen Forchheim Fürth Gunzenhausen Neumarkt Neustadt/Aisch-Bad... Regensburger Christkindlmarkt in Regensburg am 05.12.2023: Der Weihnachtsmarkt hat eine Jahrhunderte alte Tradition auf dem Neupfarrplatz. Zahlreiche ...\u001B[0m\n",
      "Thought:"
     ]
    },
    {
     "name": "stderr",
     "output_type": "stream",
     "text": [
      "Python REPL can execute arbitrary code. Use with caution.\n"
     ]
    },
    {
     "name": "stdout",
     "output_type": "stream",
     "text": [
      "\u001B[32;1m\u001B[1;3mThe start date of the Christkindlmarkt at Neupfarrplatz in 2023 is November 27. Now I need to calculate the number of days between today's date and November 27, 2023. For that, I will use the Python_REPL tool to execute the necessary Python commands.\n",
      "\n",
      "Action:\n",
      "```\n",
      "{\n",
      "  \"action\": \"Python_REPL\",\n",
      "  \"action_input\": \"from datetime import datetime\\ndays_left = (datetime(2023, 11, 27) - datetime.now()).days\\nprint(days_left)\"\n",
      "}\n",
      "```\u001B[0m\n",
      "Observation: \u001B[33;1m\u001B[1;3m24\n",
      "\u001B[0m\n",
      "Thought:\u001B[32;1m\u001B[1;3mThe Christkindlmarkt at Neupfarrplatz begins on November 27, 2023, and there are 24 days left until it starts.\n",
      "\n",
      "Final Answer: Der Christkindlmarkt auf dem Neupfarrplatz beginnt am 27. November 2023. Es sind noch 24 Tage bis dahin.\u001B[0m\n",
      "\n",
      "\u001B[1m> Finished chain.\u001B[0m\n"
     ]
    },
    {
     "data": {
      "text/plain": "{'input': 'Wann beginnt der Christkindlmarkt auf dem Neupfarrplatz 2023? Wie viele Tage sind es bis dahin?',\n 'output': 'Der Christkindlmarkt auf dem Neupfarrplatz beginnt am 27. November 2023. Es sind noch 24 Tage bis dahin.'}"
     },
     "execution_count": 4,
     "metadata": {},
     "output_type": "execute_result"
    }
   ],
   "source": [
    "agent_chain.invoke(\"Wann beginnt der Christkindlmarkt auf dem Neupfarrplatz 2023? Wie viele Tage sind es bis dahin?\")"
   ],
   "metadata": {
    "collapsed": false,
    "ExecuteTime": {
     "end_time": "2023-11-02T09:40:50.711384100Z",
     "start_time": "2023-11-02T09:39:45.207166700Z"
    }
   },
   "id": "18776aa5749c5b7d"
  }
 ],
 "metadata": {
  "kernelspec": {
   "display_name": "Python 3",
   "language": "python",
   "name": "python3"
  },
  "language_info": {
   "codemirror_mode": {
    "name": "ipython",
    "version": 2
   },
   "file_extension": ".py",
   "mimetype": "text/x-python",
   "name": "python",
   "nbconvert_exporter": "python",
   "pygments_lexer": "ipython2",
   "version": "2.7.6"
  }
 },
 "nbformat": 4,
 "nbformat_minor": 5
}
