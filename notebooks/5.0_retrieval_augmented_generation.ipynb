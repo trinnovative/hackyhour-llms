{
 "cells": [
  {
   "cell_type": "markdown",
   "source": [
    "# Retrieval Augmented Generation (RAG)"
   ],
   "metadata": {
    "collapsed": false
   },
   "id": "6cdc9529f4d9cba7"
  },
  {
   "cell_type": "code",
   "execution_count": null,
   "outputs": [],
   "source": [
    "import os\n",
    "import json\n",
    "import tiktoken\n",
    "from dotenv import load_dotenv\n",
    "from langchain.prompts import ChatPromptTemplate\n",
    "from langchain.chat_models import ChatOpenAI\n",
    "from langchain.embeddings import OpenAIEmbeddings\n",
    "from langchain.schema.output_parser import StrOutputParser\n",
    "from langchain.schema.runnable import RunnablePassthrough\n",
    "from langchain.vectorstores import FAISS\n",
    "\n",
    "load_dotenv()\n",
    "os.environ[\"OPENAI_API_KEY\"] = os.getenv(\"OPENAI_API_KEY\")"
   ],
   "metadata": {
    "collapsed": false,
    "is_executing": true,
    "ExecuteTime": {
     "start_time": "2023-11-02T09:44:36.643113600Z"
    }
   },
   "id": "df0d5a1dab8c581d"
  },
  {
   "cell_type": "code",
   "execution_count": null,
   "outputs": [],
   "source": [
    "with open(\"dummy_data.json\", \"r\") as f:\n",
    "    dummy_data = json.load(f)\n",
    "len(dummy_data)"
   ],
   "metadata": {
    "collapsed": false,
    "is_executing": true
   },
   "id": "c372c32e6d9adf14"
  },
  {
   "cell_type": "code",
   "execution_count": null,
   "outputs": [],
   "source": [
    "# calculate tokens of the data\n",
    "\n",
    "encoding = tiktoken.encoding_for_model(\"gpt-3.5-turbo\")\n",
    "num_tokens = len(encoding.encode(\"\".join(dummy_data)))\n",
    "num_tokens"
   ],
   "metadata": {
    "collapsed": false,
    "is_executing": true
   },
   "id": "967d2427164a23ae"
  },
  {
   "cell_type": "code",
   "execution_count": null,
   "outputs": [],
   "source": [
    "hacky_hour = ['Event Title: HackyHour: LargeLanguageModels for Developers\\n\\nPlace: Degginger Regensburg\\n\\nDate: November 14, 2023\\n\\nTime: 18:30 o\\'clock \\n\\nDescription: Dr. Johann Schenkl from trinnovative will demonstrate technical integrations such as embedding ChatGPT into personal applications, adding custom functions, and incorporating individual data into language models.']"
   ],
   "metadata": {
    "collapsed": false,
    "is_executing": true
   },
   "id": "cccbe3ce79ff4431"
  },
  {
   "cell_type": "code",
   "execution_count": null,
   "outputs": [],
   "source": [
    "documents = dummy_data + hacky_hour"
   ],
   "metadata": {
    "collapsed": false,
    "is_executing": true
   },
   "id": "dbcee73e6adf9984"
  },
  {
   "cell_type": "code",
   "execution_count": null,
   "outputs": [],
   "source": [
    "vectorstore = FAISS.from_texts(documents, embedding=OpenAIEmbeddings())\n",
    "retriever = vectorstore.as_retriever()\n",
    "\n",
    "template = \"\"\"Answer the question based only on the following context:\n",
    "{context}\n",
    "\n",
    "Question: {question}\n",
    "\"\"\"\n",
    "prompt = ChatPromptTemplate.from_template(template)\n",
    "\n",
    "model = ChatOpenAI()\n",
    "\n",
    "chain = (\n",
    "    {\"context\": retriever, \"question\": RunnablePassthrough()} \n",
    "    | prompt \n",
    "    | model \n",
    "    | StrOutputParser()\n",
    ")"
   ],
   "metadata": {
    "collapsed": false,
    "is_executing": true
   },
   "id": "fd9d74bf4853dcce"
  },
  {
   "cell_type": "code",
   "execution_count": null,
   "outputs": [],
   "source": [
    "chain.invoke(\"Wo findet die Hacky Hour statt?\")"
   ],
   "metadata": {
    "collapsed": false,
    "is_executing": true
   },
   "id": "b6cda11638cd4e88"
  },
  {
   "cell_type": "code",
   "execution_count": null,
   "outputs": [],
   "source": [
    "chain.invoke(\"Um wie viel Uhr Startet die Hacky Hour?\")"
   ],
   "metadata": {
    "collapsed": false,
    "is_executing": true
   },
   "id": "ba4995c400291e8a"
  },
  {
   "cell_type": "code",
   "execution_count": null,
   "outputs": [],
   "source": [
    "retriever.invoke(\"Wo findet die Hacky Hour statt?\")"
   ],
   "metadata": {
    "collapsed": false
   },
   "id": "24f8b0bb329d738a"
  }
 ],
 "metadata": {
  "kernelspec": {
   "display_name": "Python 3",
   "language": "python",
   "name": "python3"
  },
  "language_info": {
   "codemirror_mode": {
    "name": "ipython",
    "version": 2
   },
   "file_extension": ".py",
   "mimetype": "text/x-python",
   "name": "python",
   "nbconvert_exporter": "python",
   "pygments_lexer": "ipython2",
   "version": "2.7.6"
  }
 },
 "nbformat": 4,
 "nbformat_minor": 5
}
