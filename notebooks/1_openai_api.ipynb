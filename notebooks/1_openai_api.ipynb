{
 "cells": [
  {
   "cell_type": "code",
   "execution_count": 7,
   "outputs": [],
   "source": [
    "import os\n",
    "import json\n",
    "import openai\n",
    "from dotenv import load_dotenv"
   ],
   "metadata": {
    "collapsed": false,
    "ExecuteTime": {
     "end_time": "2023-10-27T12:02:10.808478200Z",
     "start_time": "2023-10-27T12:02:10.804119Z"
    }
   },
   "id": "c581061e4eb21390"
  },
  {
   "cell_type": "markdown",
   "source": [
    "# OpenAI APIs\n",
    "\n",
    "- **Chat** (ChatGPT)\n",
    "- Completion (Text, vorgänger von Chat)\n",
    "- Embeddings (Text -> Vektor)\n",
    "- Fine-Tuning\n",
    "- Images \n",
    "- Audio\n",
    "\n",
    "Links:\n",
    "- [Dokumentation](https://platform.openai.com/docs/introduction)\n",
    "- [API Reference](https://platform.openai.com/docs/api-reference)"
   ],
   "metadata": {
    "collapsed": false
   },
   "id": "963eaab76c6bdf78"
  },
  {
   "cell_type": "markdown",
   "source": [
    "## Chat\n",
    "\n",
    "- Input: messages (Chatverlauf aus Nachrichten von: system, user, assistant)\n",
    "- Output: assistant message oder function call\n",
    "- Jeder API-Call besteht nur aus einer Frage-Antwort-Kombination, Kenntnis vom Chatverlauf muss selbst implementiert werden"
   ],
   "metadata": {
    "collapsed": false
   },
   "id": "8d698fe4322a47bc"
  },
  {
   "cell_type": "code",
   "execution_count": 8,
   "outputs": [],
   "source": [
    "load_dotenv()\n",
    "openai.api_key = os.getenv(\"OPENAI_API_KEY\")"
   ],
   "metadata": {
    "collapsed": false,
    "ExecuteTime": {
     "end_time": "2023-10-27T12:02:14.140696600Z",
     "start_time": "2023-10-27T12:02:14.133910600Z"
    }
   },
   "id": "7d56cc42d07d7774"
  },
  {
   "cell_type": "markdown",
   "source": [
    "Modelle:\n",
    "- gpt-3.5-turbo\n",
    "- gpt-4\n",
    "- [viele weitere](https://platform.openai.com/docs/models)\n",
    "\n",
    "Message Roles:\n",
    "- `system`: Vorkonfiguration, wird in ChatGPT nicht als Chatnachricht angezeigt\n",
    "- `user`: Nachrichten die vom Nutzer geschrieben wurden\n",
    "- `assistant`: Antworten die ChatGPT gegeben hat\n",
    "- `function`: Ergebnis einer Funktion"
   ],
   "metadata": {
    "collapsed": false
   },
   "id": "9f83a8974e6b5659"
  },
  {
   "cell_type": "code",
   "execution_count": 14,
   "outputs": [],
   "source": [
    "response = openai.ChatCompletion.create(\n",
    "    model=\"gpt-3.5-turbo\",\n",
    "    messages=[\n",
    "        {\"role\": \"system\", \"content\": \"You are a helpful assistant.\"},\n",
    "        {\"role\": \"user\", \"content\": \"Who won the world series in 2020?\"},\n",
    "        {\"role\": \"assistant\", \"content\": \"The Los Angeles Dodgers won the World Series in 2020.\"},\n",
    "        {\"role\": \"user\", \"content\": \"Where was it played?\"}\n",
    "    ]\n",
    ")"
   ],
   "metadata": {
    "collapsed": false,
    "ExecuteTime": {
     "end_time": "2023-10-27T12:03:16.206317900Z",
     "start_time": "2023-10-27T12:03:14.508125500Z"
    }
   },
   "id": "2f9368fa8b06f775"
  },
  {
   "cell_type": "code",
   "execution_count": 15,
   "outputs": [
    {
     "data": {
      "text/plain": "{'id': 'chatcmpl-8EFqUgqAKYpujF4I7tfRZeUIoRED0',\n 'object': 'chat.completion',\n 'created': 1698408194,\n 'model': 'gpt-3.5-turbo-0613',\n 'choices': [<OpenAIObject at 0x1d37f3baff0> JSON: {\n    \"index\": 0,\n    \"message\": {\n      \"role\": \"assistant\",\n      \"content\": \"The World Series in 2020 was played in Arlington, Texas at the Globe Life Field, which is the home stadium of the Texas Rangers.\"\n    },\n    \"finish_reason\": \"stop\"\n  }],\n 'usage': <OpenAIObject at 0x1d37f3bab70> JSON: {\n   \"prompt_tokens\": 53,\n   \"completion_tokens\": 29,\n   \"total_tokens\": 82\n }}"
     },
     "execution_count": 15,
     "metadata": {},
     "output_type": "execute_result"
    }
   ],
   "source": [
    "dict(response)"
   ],
   "metadata": {
    "collapsed": false,
    "ExecuteTime": {
     "end_time": "2023-10-27T12:03:16.240643900Z",
     "start_time": "2023-10-27T12:03:16.206317900Z"
    }
   },
   "id": "6743d022e35431aa"
  },
  {
   "cell_type": "code",
   "execution_count": 16,
   "outputs": [
    {
     "data": {
      "text/plain": "'The World Series in 2020 was played in Arlington, Texas at the Globe Life Field, which is the home stadium of the Texas Rangers.'"
     },
     "execution_count": 16,
     "metadata": {},
     "output_type": "execute_result"
    }
   ],
   "source": [
    "response[\"choices\"][0][\"message\"][\"content\"]"
   ],
   "metadata": {
    "collapsed": false,
    "ExecuteTime": {
     "end_time": "2023-10-27T12:03:16.250651500Z",
     "start_time": "2023-10-27T12:03:16.210489700Z"
    }
   },
   "id": "8768843b70eb61bb"
  },
  {
   "cell_type": "markdown",
   "source": [
    "## Functions\n",
    "\n",
    "- Schnittstelle der Modelle nach außen\n",
    "- eigene Funktionen definieren\n",
    "- dem Modell mitteilen, welche Funktionen zur Verfügung stehen \n",
    "- Modell entscheidet selbst, wann es Sinn ergibt eine Funktion aufzurufen\n",
    "- API führt Funktionen nicht aus, sondern teilt nur mit, welche Funktion mit welchem Input ausgeführt werden soll"
   ],
   "metadata": {
    "collapsed": false
   },
   "id": "9d32d2e7479ee8a8"
  },
  {
   "cell_type": "code",
   "execution_count": 17,
   "outputs": [],
   "source": [
    "# Example dummy function hard coded to return the same weather\n",
    "# In production, this could be your backend API or an external API\n",
    "def get_current_weather(location, unit=\"fahrenheit\"):\n",
    "    \"\"\"Get the current weather in a given location\"\"\"\n",
    "    weather_info = {\n",
    "        \"location\": location,\n",
    "        \"temperature\": \"72\",\n",
    "        \"unit\": unit,\n",
    "        \"forecast\": [\"sunny\", \"windy\"],\n",
    "    }\n",
    "    return json.dumps(weather_info)"
   ],
   "metadata": {
    "collapsed": false,
    "ExecuteTime": {
     "end_time": "2023-10-27T12:03:23.205675700Z",
     "start_time": "2023-10-27T12:03:23.197058600Z"
    }
   },
   "id": "429865e0f73219f6"
  },
  {
   "cell_type": "code",
   "execution_count": 18,
   "outputs": [
    {
     "name": "stdout",
     "output_type": "stream",
     "text": [
      "--------------- initial response ---------------\n",
      "{\n",
      "  \"id\": \"chatcmpl-8EFqdlM7UTpWn0vBc7wDffQFRNyW4\",\n",
      "  \"object\": \"chat.completion\",\n",
      "  \"created\": 1698408203,\n",
      "  \"model\": \"gpt-3.5-turbo-0613\",\n",
      "  \"choices\": [\n",
      "    {\n",
      "      \"index\": 0,\n",
      "      \"message\": {\n",
      "        \"role\": \"assistant\",\n",
      "        \"content\": null,\n",
      "        \"function_call\": {\n",
      "          \"name\": \"get_current_weather\",\n",
      "          \"arguments\": \"{\\n\\\"location\\\": \\\"Boston, MA\\\"\\n}\"\n",
      "        }\n",
      "      },\n",
      "      \"finish_reason\": \"function_call\"\n",
      "    }\n",
      "  ],\n",
      "  \"usage\": {\n",
      "    \"prompt_tokens\": 82,\n",
      "    \"completion_tokens\": 17,\n",
      "    \"total_tokens\": 99\n",
      "  }\n",
      "}\n",
      "--------------- second response ---------------\n",
      "{\n",
      "  \"id\": \"chatcmpl-8EFqfO9gu46KbyLXj3ShFhCVOcWGS\",\n",
      "  \"object\": \"chat.completion\",\n",
      "  \"created\": 1698408205,\n",
      "  \"model\": \"gpt-3.5-turbo-0613\",\n",
      "  \"choices\": [\n",
      "    {\n",
      "      \"index\": 0,\n",
      "      \"message\": {\n",
      "        \"role\": \"assistant\",\n",
      "        \"content\": \"The current weather in Boston, MA is 72 degrees Fahrenheit with sunny and windy conditions.\"\n",
      "      },\n",
      "      \"finish_reason\": \"stop\"\n",
      "    }\n",
      "  ],\n",
      "  \"usage\": {\n",
      "    \"prompt_tokens\": 71,\n",
      "    \"completion_tokens\": 18,\n",
      "    \"total_tokens\": 89\n",
      "  }\n",
      "}\n"
     ]
    }
   ],
   "source": [
    "def run_conversation():\n",
    "    # Step 1: send the conversation and available functions to GPT\n",
    "    messages = [{\"role\": \"user\", \"content\": \"What's the weather like in Boston?\"}]\n",
    "    functions = [\n",
    "        {\n",
    "            \"name\": \"get_current_weather\",\n",
    "            \"description\": \"Get the current weather in a given location\",\n",
    "            \"parameters\": {\n",
    "                \"type\": \"object\",\n",
    "                \"properties\": {\n",
    "                    \"location\": {\n",
    "                        \"type\": \"string\",\n",
    "                        \"description\": \"The city and state, e.g. San Francisco, CA\",\n",
    "                    },\n",
    "                    \"unit\": {\"type\": \"string\", \"enum\": [\"celsius\", \"fahrenheit\"]},\n",
    "                },\n",
    "                \"required\": [\"location\"],\n",
    "            },\n",
    "        }\n",
    "    ]\n",
    "    response = openai.ChatCompletion.create(\n",
    "        model=\"gpt-3.5-turbo-0613\",\n",
    "        messages=messages,\n",
    "        functions=functions,\n",
    "        function_call=\"auto\",  # auto is default, but we'll be explicit\n",
    "    )\n",
    "    print(\"--------------- initial response ---------------\")\n",
    "    print(response)\n",
    "    response_message = response[\"choices\"][0][\"message\"]\n",
    "\n",
    "    # Step 2: check if GPT wanted to call a function\n",
    "    if response_message.get(\"function_call\"):\n",
    "        # Step 3: call the function\n",
    "        # Note: the JSON response may not always be valid; be sure to handle errors\n",
    "        available_functions = {\n",
    "            \"get_current_weather\": get_current_weather,\n",
    "        }  # only one function in this example, but you can have multiple\n",
    "        function_name = response_message[\"function_call\"][\"name\"]\n",
    "        function_to_call = available_functions[function_name]\n",
    "        function_args = json.loads(response_message[\"function_call\"][\"arguments\"])\n",
    "        function_response = function_to_call(\n",
    "            location=function_args.get(\"location\"),\n",
    "            unit=function_args.get(\"unit\"),\n",
    "        )\n",
    "\n",
    "        # Step 4: send the info on the function call and function response to GPT\n",
    "        messages.append(response_message)  # extend conversation with assistant's reply\n",
    "        messages.append(\n",
    "            {\n",
    "                \"role\": \"function\",\n",
    "                \"name\": function_name,\n",
    "                \"content\": function_response,\n",
    "            }\n",
    "        )  # extend conversation with function response\n",
    "        second_response = openai.ChatCompletion.create(\n",
    "            model=\"gpt-3.5-turbo-0613\",\n",
    "            messages=messages,\n",
    "        )  # get a new response from GPT where it can see the function response\n",
    "        print(\"--------------- second response ---------------\")\n",
    "        print(second_response)\n",
    "\n",
    "\n",
    "run_conversation()"
   ],
   "metadata": {
    "collapsed": false,
    "ExecuteTime": {
     "end_time": "2023-10-27T12:03:26.246772400Z",
     "start_time": "2023-10-27T12:03:23.970076300Z"
    }
   },
   "id": "eb147e103bd5b7c9"
  }
 ],
 "metadata": {
  "kernelspec": {
   "display_name": "Python 3",
   "language": "python",
   "name": "python3"
  },
  "language_info": {
   "codemirror_mode": {
    "name": "ipython",
    "version": 2
   },
   "file_extension": ".py",
   "mimetype": "text/x-python",
   "name": "python",
   "nbconvert_exporter": "python",
   "pygments_lexer": "ipython2",
   "version": "2.7.6"
  }
 },
 "nbformat": 4,
 "nbformat_minor": 5
}
