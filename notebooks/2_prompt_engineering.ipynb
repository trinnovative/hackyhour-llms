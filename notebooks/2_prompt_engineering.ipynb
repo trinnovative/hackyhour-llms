{
 "cells": [
  {
   "cell_type": "code",
   "execution_count": 1,
   "id": "329e570e-6281-42f4-b06c-1f5e051242a0",
   "metadata": {
    "collapsed": false,
    "ExecuteTime": {
     "end_time": "2023-11-02T09:39:40.267682Z",
     "start_time": "2023-11-02T09:39:39.743212300Z"
    }
   },
   "outputs": [],
   "source": [
    "import os\n",
    "import openai\n",
    "from dotenv import load_dotenv\n",
    "\n",
    "load_dotenv()\n",
    "openai.api_key = os.getenv(\"OPENAI_API_KEY\")\n",
    "MODEL = \"gpt-3.5-turbo\""
   ]
  },
  {
   "cell_type": "markdown",
   "id": "1b8b4b4f-2d90-45c1-85fc-ff0ac90caf63",
   "metadata": {},
   "source": [
    "# Chain of Thought Prompting\n",
    "\n",
    "Beim Chain of Thought (CoT) Promting wird das LLM dazu ermutigt seinen Entscheidungsprozess zu erklären. Dabei wird der Prompt um ein einzelnes oder wenige Beispiele erweitert, die den Entscheidungsprozess abbilden. Somit enthält auch die Antwort des LLMs diesen Prozess, was zu genaueren Ergebnissen führt."
   ]
  },
  {
   "cell_type": "code",
   "execution_count": 2,
   "id": "65c59d7f-ee16-405d-9b83-a1617e2b077a",
   "metadata": {
    "ExecuteTime": {
     "end_time": "2023-11-02T09:39:40.268682500Z",
     "start_time": "2023-11-02T09:39:40.233676900Z"
    }
   },
   "outputs": [],
   "source": [
    "question = (\n",
    "                \"It takes Dave the developer 1.5 hours to fix 1 bug. \"\n",
    "                \"After fixing 2 bugs he must rest for 0.5 hours and drink coffee. \"\n",
    "                \"How many bugs can he fix in 8.5 hours?\"\n",
    "            )\n",
    "\n",
    "# CORRECT ANSWER: 5"
   ]
  },
  {
   "cell_type": "markdown",
   "source": [
    "## Raw Prompt\n",
    "\n",
    "Entspricht der direkten Eingabe der Aufgabenstellung in ChatGPT (GPT-3.5)"
   ],
   "metadata": {
    "collapsed": false
   },
   "id": "7061ea08e3ad600a"
  },
  {
   "cell_type": "code",
   "execution_count": 3,
   "outputs": [
    {
     "name": "stdout",
     "output_type": "stream",
     "text": [
      "In 8.5 hours, Dave can work for 8.5 - 0.5 = <<8.5-0.5=8>>8 hours.\n",
      "In 8 hours, Dave can fix 8 / 1.5 = <<8/1.5=5.33>>5.33 bugs.\n",
      "Since Dave cannot fix a fraction of a bug, he can fix a maximum of 5 bugs. Answer: \\boxed{5}.\n"
     ]
    }
   ],
   "source": [
    "response = openai.ChatCompletion.create(\n",
    "    model=MODEL,\n",
    "    messages=[\n",
    "        {\n",
    "            \"role\": \"user\",\n",
    "            \"content\": question\n",
    "        }\n",
    "    ],\n",
    "    temperature=0\n",
    ")\n",
    "print(response[\"choices\"][0][\"message\"][\"content\"])"
   ],
   "metadata": {
    "collapsed": false,
    "ExecuteTime": {
     "end_time": "2023-11-02T09:39:43.970407300Z",
     "start_time": "2023-11-02T09:39:40.237682300Z"
    }
   },
   "id": "33d05a2afa0f2e8"
  },
  {
   "cell_type": "markdown",
   "source": [
    "## One/few Shot standard Prompt (ohne CoT)\n",
    "\n",
    "- Prompt wird um ein oder mehrere Beispiele ergänzt\n",
    "- Ähnlich wie Nachtrainieren (fine tuning)\n",
    "- Zählt als zusätzliche Tokens (Tokenlimit, Kosten)"
   ],
   "metadata": {
    "collapsed": false
   },
   "id": "55950179-c44a-4296-8072-2d0eee1f12d3"
  },
  {
   "cell_type": "code",
   "execution_count": 4,
   "outputs": [
    {
     "name": "stdout",
     "output_type": "stream",
     "text": [
      "Dave can fix 4 bugs in 8.5 hours.\n"
     ]
    }
   ],
   "source": [
    "response = openai.ChatCompletion.create(\n",
    "    model=MODEL,\n",
    "    messages=[\n",
    "        ### Examples\n",
    "        {\n",
    "            \"role\": \"system\",\n",
    "            \"name\": \"example_user\",\n",
    "            \"content\": \"\"\"It takes Amy 5 minutes to climb and sliding the water slide down. After she slid 4 times, she must rest for 2 minutes. The water slide closes in 50 minutes. How many times can she slide before it closes?\"\"\"\n",
    "        },\n",
    "        {\n",
    "            \"role\": \"system\",\n",
    "            \"name\": \"example_assistant\",\n",
    "            \"content\": \"\"\"Amy can slide 9 times in the 50 minutes.\n",
    "            \"\"\"\n",
    "        },\n",
    "        ### Actual question\n",
    "        {\n",
    "            \"role\": \"user\",\n",
    "            \"content\": question\n",
    "        }\n",
    "    ],\n",
    "    temperature=0\n",
    ")\n",
    "print(response[\"choices\"][0][\"message\"][\"content\"])"
   ],
   "metadata": {
    "collapsed": false,
    "ExecuteTime": {
     "end_time": "2023-11-02T09:39:44.758029100Z",
     "start_time": "2023-11-02T09:39:43.971408300Z"
    }
   },
   "id": "c5af719799711c29"
  },
  {
   "cell_type": "markdown",
   "source": [
    "## CoT-Prompting\n",
    "\n",
    "- Ebenfalls \"few shot examples\"\n",
    "- Im Beispiel wird der Denk-/Entscheidungsprozess, nicht nur das erwartete Ergebnis"
   ],
   "metadata": {
    "collapsed": false
   },
   "id": "8a943df494657299"
  },
  {
   "cell_type": "code",
   "execution_count": 5,
   "outputs": [
    {
     "name": "stdout",
     "output_type": "stream",
     "text": [
      "Let's break down the scenario into steps and create a plan to solve it:\n",
      "\n",
      "1. Dave takes 1.5 hours to fix 1 bug.\n",
      "2. After fixing 2 bugs (which takes 3 hours), Dave takes a 0.5-hour break.\n",
      "3. Dave has 8.5 hours to fix bugs.\n",
      "\n",
      "We can group the time taken to fix 2 bugs and take a break as a single \"bug-block\" which lasts for 3.5 hours (3 hours for fixing bugs + 0.5 hours for a break).\n",
      "Now, we can find the number of complete bug-blocks Dave can have within the 8.5 hours:\n",
      "Number of bug-blocks is: 8.5 // 3.5 = 2\n",
      "\n",
      "Now, we calculate the total time taken for these 2 bug-blocks:\n",
      "Total time for 2 bug-blocks is: 2 x 3.5 = 7 hours\n",
      "\n",
      "Now, the remaining time Dave has is: 8.5 - 7 = 1.5 hours\n",
      "In this remaining time, Dave can fix one more bug as it takes 1.5 hours to fix.\n",
      "\n",
      "Now, the total number of bugs Dave can fix is the sum of the bugs fixed during the bug-blocks and the additional bug in the remaining time:\n",
      "Total bugs = (2 x 2 bugs per bug-block) + 1 = 4 + 1 = 5\n",
      "\n",
      "So, Dave can fix 5 bugs in 8.5 hours.\n"
     ]
    }
   ],
   "source": [
    "response = openai.ChatCompletion.create(\n",
    "    model=MODEL,\n",
    "    messages=[\n",
    "        ### Examples\n",
    "        {\n",
    "            \"role\": \"system\",\n",
    "            \"name\": \"example_user\",\n",
    "            \"content\": \"\"\"It takes Amy 5 minutes to climb and sliding the water slide down. After she slid 4 times, she must rest for 2 minutes. The water slide closes in 50 minutes. How many times can she slide before it closes?\"\"\"\n",
    "        },\n",
    "        {\n",
    "            \"role\": \"system\",\n",
    "            \"name\": \"example_assistant\",\n",
    "            \"content\": \"\"\"\n",
    "            Let's break down the scenario into steps and create a plan to solve it:\n",
    "            \n",
    "            1. Amy takes 5 minutes for each slide.\n",
    "            2. After 2 slides (which takes 10 minutes), Amy takes a 2-minute break.\n",
    "            3. Amy has 50 minutes to take slides.\n",
    "            \n",
    "            We can group the time taken to slide 4 times and take a break as a single \"slide-block\" which lasts for 22 minutes (20 minutes for sliding + 2 minutes for a break).\n",
    "            Now, we can find the number of complete slide-blocks Amy can have within the 50 minutes: \n",
    "            Number of slide-blocks is: 50//22=2\n",
    "            \n",
    "            Now, we calculate the total time taken for these 2 slide-blocks: \n",
    "            Total time for 2 slide-blocks is: 2x22=44 minutes\n",
    "            \n",
    "            Now, the remaining time Amy has is: 50-44=6 minutes\n",
    "            In this remaining time, Amy can slide one more time as it takes 5 minutes to slide.\n",
    "            \n",
    "            Now, the total number of slides Amy can make is the sum of the slides during the slide-blocks and the additional slide in the remaining time:\n",
    "            Total slides = (2x4 slides per slide-block) + 1 = 8 + 1 = 9\n",
    "            So, Amy can slide 9 times in the 50 minutes.\n",
    "            \"\"\"\n",
    "        },\n",
    "        ### Actual question\n",
    "        {\n",
    "            \"role\": \"user\",\n",
    "            \"content\": question\n",
    "        }\n",
    "    ],\n",
    "    temperature=0\n",
    ")\n",
    "print(response[\"choices\"][0][\"message\"][\"content\"])"
   ],
   "metadata": {
    "collapsed": false,
    "ExecuteTime": {
     "end_time": "2023-11-02T09:39:52.843946200Z",
     "start_time": "2023-11-02T09:39:44.758029100Z"
    }
   },
   "id": "ccbf3da5d03f0a0a"
  },
  {
   "cell_type": "markdown",
   "id": "267a8c0d-03b6-4744-94fe-6f5cf9ec92ec",
   "metadata": {},
   "source": [
    "# Zero Shot Chain of Thought\n",
    "\n",
    "Das Zero Shot Chain of Thought (Zero-shot-CoT) Prompting ist eine Fortsetzung des CoT Prompting, wobei der eigentliche Prompt nur minimal erweitert wird. Durch das Anhängen der Worte **\"Let's think step by step.\"** an das Ende einer Frage, sind LLMs in der Lage eine Gedankenkette zu erzeugen, aus der sie wiederum genauere Antworten ableiten können."
   ]
  },
  {
   "cell_type": "code",
   "execution_count": 6,
   "id": "0403ed5f-37cf-4fc5-ba42-0ba46693a040",
   "metadata": {
    "ExecuteTime": {
     "end_time": "2023-11-02T09:40:00.275417600Z",
     "start_time": "2023-11-02T09:39:52.844951100Z"
    }
   },
   "outputs": [
    {
     "name": "stdout",
     "output_type": "stream",
     "text": [
      "Step 1: Calculate the time it takes Dave to fix 2 bugs.\n",
      "Since it takes Dave 1.5 hours to fix 1 bug, it will take him 1.5 * 2 = <<1.5*2=3>>3 hours to fix 2 bugs.\n",
      "\n",
      "Step 2: Calculate the total time Dave needs to fix 2 bugs and rest.\n",
      "After fixing 2 bugs, Dave needs to rest for 0.5 hours, so the total time needed is 3 + 0.5 = <<3+0.5=3.5>>3.5 hours.\n",
      "\n",
      "Step 3: Calculate the number of times Dave can complete the cycle of fixing 2 bugs and resting in 8.5 hours.\n",
      "Since each cycle takes 3.5 hours, Dave can complete 8.5 / 3.5 = <<8.5/3.5=2.4285714285714284>>2.43 cycles.\n",
      "\n",
      "Step 4: Calculate the number of bugs Dave can fix in 8.5 hours.\n",
      "Since each cycle consists of fixing 2 bugs, Dave can fix 2.43 * 2 = <<2.43*2=4.86>>4.86 bugs.\n",
      "\n",
      "Step 5: Round down the number of bugs Dave can fix to the nearest whole number.\n",
      "Since Dave cannot fix a fraction of a bug, he can fix a maximum of 4 bugs in 8.5 hours.\n"
     ]
    }
   ],
   "source": [
    "response = openai.ChatCompletion.create(\n",
    "    model=MODEL,\n",
    "    messages=[\n",
    "        {\n",
    "            \"role\": \"user\",\n",
    "            \"content\": question + \" Let's think step by step.\"\n",
    "        }\n",
    "    ],\n",
    "    temperature=0\n",
    ")\n",
    "print(response[\"choices\"][0][\"message\"][\"content\"])"
   ]
  },
  {
   "cell_type": "markdown",
   "source": [
    "# GPT-4"
   ],
   "metadata": {
    "collapsed": false
   },
   "id": "fedbcd40374a7f22"
  },
  {
   "cell_type": "code",
   "execution_count": 7,
   "outputs": [
    {
     "name": "stdout",
     "output_type": "stream",
     "text": [
      "Dave spends 1.5 hours fixing each bug, so for 2 bugs he spends 1.5 * 2 = <<1.5*2=3>>3 hours.\n",
      "After fixing 2 bugs, he needs to rest for 0.5 hours, so the total time to fix 2 bugs and rest is 3 + 0.5 = <<3+0.5=3.5>>3.5 hours.\n",
      "In 8.5 hours, Dave can complete 8.5 / 3.5 = <<8.5/3.5=2.4285714285714284>>2.4285714285714284 cycles of fixing 2 bugs and resting.\n",
      "Since Dave can't complete a fraction of a cycle, he can complete 2 full cycles, which means he can fix 2 * 2 = <<2*2=4>>4 bugs.\n",
      "After completing 2 cycles, Dave has spent 2 * 3.5 = <<2*3.5=7>>7 hours.\n",
      "This leaves 8.5 - 7 = <<8.5-7=1.5>>1.5 hours.\n",
      "In the remaining time, Dave can fix 1.5 / 1.5 = <<1.5/1.5=1>>1 more bug.\n",
      "So in total, Dave can fix 4 + 1 = <<4+1=5>>5 bugs in 8.5 hours. Answer: \\boxed{5}.\n"
     ]
    }
   ],
   "source": [
    "response = openai.ChatCompletion.create(\n",
    "    model='gpt-4',\n",
    "    messages=[\n",
    "        {\n",
    "            \"role\": \"user\",\n",
    "            \"content\": question\n",
    "        }\n",
    "    ],\n",
    "    temperature=0\n",
    ")\n",
    "print(response[\"choices\"][0][\"message\"][\"content\"])"
   ],
   "metadata": {
    "collapsed": false,
    "ExecuteTime": {
     "end_time": "2023-11-02T09:41:01.742710Z",
     "start_time": "2023-11-02T09:40:00.276426600Z"
    }
   },
   "id": "4f2af6c42b6b7cb7"
  }
 ],
 "metadata": {
  "kernelspec": {
   "display_name": "Python 3 (ipykernel)",
   "language": "python",
   "name": "python3"
  },
  "language_info": {
   "codemirror_mode": {
    "name": "ipython",
    "version": 3
   },
   "file_extension": ".py",
   "mimetype": "text/x-python",
   "name": "python",
   "nbconvert_exporter": "python",
   "pygments_lexer": "ipython3",
   "version": "3.11.0"
  }
 },
 "nbformat": 4,
 "nbformat_minor": 5
}
